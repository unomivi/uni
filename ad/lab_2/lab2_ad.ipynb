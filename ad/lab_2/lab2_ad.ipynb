{
 "cells": [
  {
   "cell_type": "markdown",
   "id": "fc14e381c5c48f75",
   "metadata": {
    "collapsed": false
   },
   "source": [
    "## <center>Підготовка та аналіз даних</center>\n",
    "## <center>Лабораторна робота №2</center>\n",
    "### <center>ФБ-32 Чупріна Вікторія </center>"
   ]
  },
  {
   "cell_type": "markdown",
   "id": "4f68980069867b2e",
   "metadata": {
    "collapsed": false
   },
   "source": [
    "Імпортуємо потрібні нам бібліотеки"
   ]
  },
  {
   "cell_type": "code",
   "execution_count": 1,
   "id": "de0396122080d568",
   "metadata": {
    "ExecuteTime": {
     "end_time": "2024-03-30T07:26:14.099849Z",
     "start_time": "2024-03-30T07:26:13.441237Z"
    },
    "collapsed": false
   },
   "outputs": [],
   "source": [
    "import datetime\n",
    "import requests\n",
    "import urllib.request\n",
    "import pandas as pd\n",
    "import os\n"
   ]
  },
  {
   "cell_type": "markdown",
   "id": "cf675c92d0a4a1c",
   "metadata": {
    "collapsed": false
   },
   "source": [
    "Скачуємо VHI індекси для всіх областей\n",
    "Також додаємо в назву дату та час скачування"
   ]
  },
  {
   "cell_type": "code",
   "execution_count": 2,
   "id": "8dbd24892bd7d25f",
   "metadata": {
    "ExecuteTime": {
     "start_time": "2024-03-30T07:20:16.582507Z"
    },
    "collapsed": false,
    "is_executing": true
   },
   "outputs": [
    {
     "name": "stdout",
     "output_type": "stream",
     "text": [
      "The folder is created\n",
      "VHI from id 1 was downloaded at 2025-03-13_12-39-55\n",
      "VHI from id 2 was downloaded at 2025-03-13_12-39-57\n",
      "VHI from id 3 was downloaded at 2025-03-13_12-40-00\n",
      "VHI from id 4 was downloaded at 2025-03-13_12-40-03\n",
      "VHI from id 5 was downloaded at 2025-03-13_12-40-05\n",
      "VHI from id 6 was downloaded at 2025-03-13_12-40-07\n",
      "VHI from id 7 was downloaded at 2025-03-13_12-40-09\n",
      "VHI from id 8 was downloaded at 2025-03-13_12-40-12\n",
      "VHI from id 9 was downloaded at 2025-03-13_12-40-14\n",
      "VHI from id 10 was downloaded at 2025-03-13_12-40-16\n",
      "VHI from id 11 was downloaded at 2025-03-13_12-40-18\n",
      "VHI from id 12 was downloaded at 2025-03-13_12-40-20\n",
      "VHI from id 13 was downloaded at 2025-03-13_12-40-23\n",
      "VHI from id 14 was downloaded at 2025-03-13_12-40-25\n",
      "VHI from id 15 was downloaded at 2025-03-13_12-40-27\n",
      "VHI from id 16 was downloaded at 2025-03-13_12-40-30\n",
      "VHI from id 17 was downloaded at 2025-03-13_12-40-32\n",
      "VHI from id 18 was downloaded at 2025-03-13_12-40-35\n",
      "VHI from id 19 was downloaded at 2025-03-13_12-40-37\n",
      "VHI from id 20 was downloaded at 2025-03-13_12-40-39\n",
      "VHI from id 21 was downloaded at 2025-03-13_12-40-42\n",
      "VHI from id 22 was downloaded at 2025-03-13_12-40-44\n",
      "VHI from id 23 was downloaded at 2025-03-13_12-40-47\n",
      "VHI from id 24 was downloaded at 2025-03-13_12-40-49\n",
      "VHI from id 25 was downloaded at 2025-03-13_12-40-52\n",
      "VHI from id 26 was downloaded at 2025-03-13_12-40-55\n",
      "VHI from id 27 was downloaded at 2025-03-13_12-40-57\n"
     ]
    }
   ],
   "source": [
    "for ids in range(1, 28):\n",
    "    url = f\"https://www.star.nesdis.noaa.gov/smcd/emb/vci/VH/get_TS_admin.php?country=UKR&provinceID={ids}&year1=1981&year2=2024&type=Mean\"\n",
    "    response = requests.get(url)\n",
    "    if response.status_code == 200:\n",
    "        if not os.path.exists('vhi'):\n",
    "            os.mkdir('vhi')\n",
    "            print(f'The folder is created')\n",
    "        date_now = datetime.datetime.now().strftime(\"%Y-%m-%d_%H-%M-%S\")\n",
    "        vhi_url = urllib.request.urlopen(url)\n",
    "        file_name = f'vhi/vhi_id_{ids}_{date_now}.csv'\n",
    "        out = open(file_name, 'wb')\n",
    "        out.write(vhi_url.read())\n",
    "        out.close()\n",
    "        print(f\"VHI from id {ids} was downloaded at {date_now}\")\n",
    "    else:\n",
    "        print(f\"Download complete\")\n",
    "        break"
   ]
  },
  {
   "cell_type": "markdown",
   "id": "80489f43036ad07f",
   "metadata": {
    "collapsed": false
   },
   "source": [
    "Даємо імена стовбцям, зчитуємо файли у фрейм"
   ]
  },
  {
   "cell_type": "code",
   "execution_count": null,
   "id": "db482e126477ec7f",
   "metadata": {
    "ExecuteTime": {
     "end_time": "2024-03-30T09:00:42.185037Z",
     "start_time": "2024-03-30T09:00:41.975937Z"
    },
    "collapsed": false
   },
   "outputs": [
    {
     "name": "stdout",
     "output_type": "stream",
     "text": [
      "       Year  Week    SMN     SMT    VCI    TCI    VHI  area\n",
      "0      1982   2.0  0.063  261.53  55.89  38.20  47.04    10\n",
      "1      1982   3.0  0.063  263.45  57.30  32.69  44.99    10\n",
      "2      1982   4.0  0.061  265.10  53.96  28.62  41.29    10\n",
      "3      1982   5.0  0.058  266.42  46.87  28.57  37.72    10\n",
      "4      1982   6.0  0.056  267.47  39.55  30.27  34.91    10\n",
      "...     ...   ...    ...     ...    ...    ...    ...   ...\n",
      "58990  2024  48.0  0.135  278.17  55.23  11.86  33.55     9\n",
      "58991  2024  49.0  0.133  277.08  57.71  10.86  34.29     9\n",
      "58992  2024  50.0  0.130  276.49  59.45   8.68  34.07     9\n",
      "58993  2024  51.0  0.128  276.45  62.53   5.55  34.04     9\n",
      "58994  2024  52.0  0.129  276.48  66.13   3.71  34.92     9\n",
      "\n",
      "[58995 rows x 8 columns]\n"
     ]
    }
   ],
   "source": [
    "folder = 'vhi'\n",
    "files = os.listdir(folder)\n",
    "\n",
    "df_all = []\n",
    "\n",
    "for file_name in files:\n",
    "    headers = ['Year', 'Week', 'SMN', 'SMT', 'VCI', 'TCI', 'VHI', 'empty']\n",
    "    df = pd.read_csv(f'{folder}/{file_name}', header=1, names=headers, skiprows=1)\n",
    "    df = df.drop(columns=['empty'], errors='ignore')\n",
    "\n",
    "    df['VHI'] = pd.to_numeric(df['VHI'], errors='coerce')\n",
    "    df = df[df['VHI'] != -1].dropna()\n",
    "\n",
    "    parts = file_name.split(\"_\")\n",
    "    if len(parts) > 2 and parts[2].isdigit():\n",
    "        df['area'] = int(parts[2])\n",
    "    else:\n",
    "        print(f\"Попередження: неможливо оприділити 'area' для файла {file_name}\")\n",
    "        continue \n",
    "\n",
    "    df_all.append(df)\n",
    "\n",
    "df_all = pd.concat(df_all, ignore_index=True)\n",
    "\n",
    "df_all = df_all.dropna(axis=1, how='all')\n",
    "\n",
    "print(df_all)"
   ]
  },
  {
   "cell_type": "markdown",
   "id": "42b687c4180eeb1",
   "metadata": {
    "collapsed": false
   },
   "source": [
    "Змінимо індекси областей"
   ]
  },
  {
   "cell_type": "code",
   "execution_count": 4,
   "id": "2b145b37d7eb786a",
   "metadata": {
    "ExecuteTime": {
     "end_time": "2024-03-30T07:36:02.703521Z",
     "start_time": "2024-03-30T07:36:02.414932Z"
    },
    "collapsed": false
   },
   "outputs": [
    {
     "name": "stdout",
     "output_type": "stream",
     "text": [
      "       Year  Week    SMN     SMT    VCI    TCI    VHI  area\n",
      "0      1982   2.0  0.063  261.53  55.89  38.20  47.04    21\n",
      "1      1982   3.0  0.063  263.45  57.30  32.69  44.99    21\n",
      "2      1982   4.0  0.061  265.10  53.96  28.62  41.29    21\n",
      "3      1982   5.0  0.058  266.42  46.87  28.57  37.72    21\n",
      "4      1982   6.0  0.056  267.47  39.55  30.27  34.91    21\n",
      "...     ...   ...    ...     ...    ...    ...    ...   ...\n",
      "58990  2024  48.0  0.135  278.17  55.23  11.86  33.55    20\n",
      "58991  2024  49.0  0.133  277.08  57.71  10.86  34.29    20\n",
      "58992  2024  50.0  0.130  276.49  59.45   8.68  34.07    20\n",
      "58993  2024  51.0  0.128  276.45  62.53   5.55  34.04    20\n",
      "58994  2024  52.0  0.129  276.48  66.13   3.71  34.92    20\n",
      "\n",
      "[58995 rows x 8 columns]\n"
     ]
    }
   ],
   "source": [
    "dict_areas = {1: 22, 2: 24, 3: 23, 4: 25, 5: 3, 6: 4, 7: 8, 8: 19, 9: 20, 10: 21, 11: 9, 13: 10, 14: 11, 15: 12,\n",
    "              16: 13, 17: 15, 18: 14, 19: 16, 21: 17, 22: 18, 23: 6, 24: 1, 25: 2, 26: 7, 27: 5}\n",
    "df_all[\"area\"] = df_all[\"area\"].replace(dict_areas)\n",
    "df_all.to_csv(f'vhi/df_all.csv', index=False)\n",
    "\n",
    "print(df_all)"
   ]
  },
  {
   "cell_type": "markdown",
   "id": "632a3adc656dbfd6",
   "metadata": {
    "collapsed": false
   },
   "source": [
    "Ряд VHI для області за вказаний рік, пошук екстремумів (min та max);"
   ]
  },
  {
   "cell_type": "code",
   "execution_count": 15,
   "id": "9dbad0af5f294086",
   "metadata": {
    "ExecuteTime": {
     "end_time": "2024-03-30T07:36:47.171914Z",
     "start_time": "2024-03-30T07:36:47.157949Z"
    },
    "collapsed": false
   },
   "outputs": [],
   "source": [
    "def vhi(area, year):\n",
    "    return df_all[(df_all[\"area\"] == area) & (df_all[\"Year\"] == year)]['VHI']\n",
    "\n",
    "def vhi_min(area, year):\n",
    "    return df_all[(df_all[\"area\"] == area) & (df_all[\"Year\"] == year)]['VHI'].min()\n",
    "\n",
    "def vhi_max(area, year):\n",
    "    return df_all[(df_all[\"area\"] == area) & (df_all[\"Year\"] == year)]['VHI'].max()\n",
    "\n",
    "df_all['Year'] = df_all['Year'].astype(int)"
   ]
  },
  {
   "cell_type": "code",
   "execution_count": 6,
   "id": "5c67ef44cb95dba5",
   "metadata": {
    "ExecuteTime": {
     "end_time": "2024-03-30T07:36:48.988524Z",
     "start_time": "2024-03-30T07:36:48.978634Z"
    },
    "collapsed": false
   },
   "outputs": [
    {
     "data": {
      "text/plain": [
       "31736    47.42\n",
       "31737    51.20\n",
       "31738    53.68\n",
       "31739    54.35\n",
       "31740    54.66\n",
       "31741    56.10\n",
       "31742    56.81\n",
       "31743    56.06\n",
       "31744    56.27\n",
       "31745    56.51\n",
       "31746    56.42\n",
       "31747    56.02\n",
       "31748    54.84\n",
       "31749    52.12\n",
       "31750    49.52\n",
       "31751    48.44\n",
       "31752    53.62\n",
       "31753    52.32\n",
       "31754    52.21\n",
       "31755    51.77\n",
       "31756    53.50\n",
       "31757    54.49\n",
       "31758    54.25\n",
       "31759    55.50\n",
       "31760    57.29\n",
       "31761    57.93\n",
       "31762    58.44\n",
       "31763    65.13\n",
       "31764    59.35\n",
       "31765    61.40\n",
       "31766    63.51\n",
       "31767    64.39\n",
       "31768    66.13\n",
       "31769    65.04\n",
       "31770    60.86\n",
       "31771    57.68\n",
       "31772    56.59\n",
       "31773    54.98\n",
       "31774    53.23\n",
       "31775    52.48\n",
       "31776    55.20\n",
       "31777    57.22\n",
       "31778    57.66\n",
       "31779    58.95\n",
       "31780    56.50\n",
       "31781    54.77\n",
       "31782    54.48\n",
       "31783    53.22\n",
       "31784    50.36\n",
       "31785    47.41\n",
       "31786    45.59\n",
       "Name: VHI, dtype: float64"
      ]
     },
     "execution_count": 6,
     "metadata": {},
     "output_type": "execute_result"
    }
   ],
   "source": [
    "vhi(6, 2005)"
   ]
  },
  {
   "cell_type": "code",
   "execution_count": 7,
   "id": "c2bb5911b9baf5ff",
   "metadata": {
    "ExecuteTime": {
     "end_time": "2024-03-30T07:38:09.963608Z",
     "start_time": "2024-03-30T07:38:09.955150Z"
    },
    "collapsed": false
   },
   "outputs": [
    {
     "data": {
      "text/plain": [
       "45.59"
      ]
     },
     "execution_count": 7,
     "metadata": {},
     "output_type": "execute_result"
    }
   ],
   "source": [
    "vhi_min(6, 2005)\n"
   ]
  },
  {
   "cell_type": "code",
   "execution_count": 8,
   "id": "351177b371823c66",
   "metadata": {
    "ExecuteTime": {
     "end_time": "2024-03-27T17:09:47.137101Z",
     "start_time": "2024-03-27T17:09:47.129144Z"
    },
    "collapsed": false
   },
   "outputs": [
    {
     "data": {
      "text/plain": [
       "66.13"
      ]
     },
     "execution_count": 8,
     "metadata": {},
     "output_type": "execute_result"
    }
   ],
   "source": [
    "vhi_max(6, 2005)"
   ]
  },
  {
   "cell_type": "markdown",
   "id": "6c4fa7f1dc1034",
   "metadata": {
    "collapsed": false
   },
   "source": [
    "Ряд VHI за вказаний діапазон років для вказаних областей;"
   ]
  },
  {
   "cell_type": "code",
   "execution_count": 9,
   "id": "d6330356711067b2",
   "metadata": {
    "ExecuteTime": {
     "end_time": "2024-03-30T07:39:41.943891Z",
     "start_time": "2024-03-30T07:39:41.937760Z"
    },
    "collapsed": false
   },
   "outputs": [],
   "source": [
    "def vhi_range(year_min, year_max, areas):\n",
    "    if not isinstance(areas, list) or not areas:\n",
    "        return print('Empty or not a list')\n",
    "    return df_all[(df_all['Year'] >= year_min) & (df_all['Year'] <= year_max) & (df_all['area'].isin(areas))][['Year', 'VHI', 'area']]"
   ]
  },
  {
   "cell_type": "code",
   "execution_count": 10,
   "id": "8f030efeac64dc00",
   "metadata": {
    "ExecuteTime": {
     "end_time": "2024-03-30T07:39:53.900239Z",
     "start_time": "2024-03-30T07:39:53.883923Z"
    },
    "collapsed": false
   },
   "outputs": [
    {
     "data": {
      "text/html": [
       "<div>\n",
       "<style scoped>\n",
       "    .dataframe tbody tr th:only-of-type {\n",
       "        vertical-align: middle;\n",
       "    }\n",
       "\n",
       "    .dataframe tbody tr th {\n",
       "        vertical-align: top;\n",
       "    }\n",
       "\n",
       "    .dataframe thead th {\n",
       "        text-align: right;\n",
       "    }\n",
       "</style>\n",
       "<table border=\"1\" class=\"dataframe\">\n",
       "  <thead>\n",
       "    <tr style=\"text-align: right;\">\n",
       "      <th></th>\n",
       "      <th>Year</th>\n",
       "      <th>VHI</th>\n",
       "      <th>area</th>\n",
       "    </tr>\n",
       "  </thead>\n",
       "  <tbody>\n",
       "    <tr>\n",
       "      <th>35865</th>\n",
       "      <td>2000</td>\n",
       "      <td>24.65</td>\n",
       "      <td>2</td>\n",
       "    </tr>\n",
       "    <tr>\n",
       "      <th>35866</th>\n",
       "      <td>2000</td>\n",
       "      <td>27.49</td>\n",
       "      <td>2</td>\n",
       "    </tr>\n",
       "    <tr>\n",
       "      <th>35867</th>\n",
       "      <td>2000</td>\n",
       "      <td>31.36</td>\n",
       "      <td>2</td>\n",
       "    </tr>\n",
       "    <tr>\n",
       "      <th>35868</th>\n",
       "      <td>2000</td>\n",
       "      <td>37.28</td>\n",
       "      <td>2</td>\n",
       "    </tr>\n",
       "    <tr>\n",
       "      <th>35869</th>\n",
       "      <td>2000</td>\n",
       "      <td>40.85</td>\n",
       "      <td>2</td>\n",
       "    </tr>\n",
       "    <tr>\n",
       "      <th>...</th>\n",
       "      <td>...</td>\n",
       "      <td>...</td>\n",
       "      <td>...</td>\n",
       "    </tr>\n",
       "    <tr>\n",
       "      <th>49262</th>\n",
       "      <td>2005</td>\n",
       "      <td>40.70</td>\n",
       "      <td>3</td>\n",
       "    </tr>\n",
       "    <tr>\n",
       "      <th>49263</th>\n",
       "      <td>2005</td>\n",
       "      <td>42.92</td>\n",
       "      <td>3</td>\n",
       "    </tr>\n",
       "    <tr>\n",
       "      <th>49264</th>\n",
       "      <td>2005</td>\n",
       "      <td>41.13</td>\n",
       "      <td>3</td>\n",
       "    </tr>\n",
       "    <tr>\n",
       "      <th>49265</th>\n",
       "      <td>2005</td>\n",
       "      <td>41.49</td>\n",
       "      <td>3</td>\n",
       "    </tr>\n",
       "    <tr>\n",
       "      <th>49266</th>\n",
       "      <td>2005</td>\n",
       "      <td>44.08</td>\n",
       "      <td>3</td>\n",
       "    </tr>\n",
       "  </tbody>\n",
       "</table>\n",
       "<p>876 rows × 3 columns</p>\n",
       "</div>"
      ],
      "text/plain": [
       "       Year    VHI  area\n",
       "35865  2000  24.65     2\n",
       "35866  2000  27.49     2\n",
       "35867  2000  31.36     2\n",
       "35868  2000  37.28     2\n",
       "35869  2000  40.85     2\n",
       "...     ...    ...   ...\n",
       "49262  2005  40.70     3\n",
       "49263  2005  42.92     3\n",
       "49264  2005  41.13     3\n",
       "49265  2005  41.49     3\n",
       "49266  2005  44.08     3\n",
       "\n",
       "[876 rows x 3 columns]"
      ]
     },
     "execution_count": 10,
     "metadata": {},
     "output_type": "execute_result"
    }
   ],
   "source": [
    "vhi_range(2000, 2005, [5, 2, 3])"
   ]
  },
  {
   "cell_type": "markdown",
   "id": "966b2871126f482f",
   "metadata": {
    "collapsed": false
   },
   "source": [
    "Роки, протягом яких екстремальні посухи торкнулися більше вказаного відсотка областей"
   ]
  },
  {
   "cell_type": "code",
   "execution_count": 11,
   "id": "7f3324f43b066dff",
   "metadata": {
    "ExecuteTime": {
     "end_time": "2024-03-30T07:41:55.498419Z",
     "start_time": "2024-03-30T07:41:55.492828Z"
    },
    "collapsed": false
   },
   "outputs": [],
   "source": [
    "def extreme_droughts(procent):\n",
    "    df_drouhts = df_all[(df_all['VHI'] <= 15) & (df_all['VHI'] != -1)]\n",
    "    grouped = df_drouhts.groupby('Year')['area'].nunique()\n",
    "    result = grouped[grouped > (25 * procent / 100)].reset_index()\n",
    "    return result"
   ]
  },
  {
   "cell_type": "code",
   "execution_count": 12,
   "id": "c1611615e5754f8f",
   "metadata": {
    "ExecuteTime": {
     "end_time": "2024-03-30T07:42:18.748476Z",
     "start_time": "2024-03-30T07:42:18.736147Z"
    },
    "collapsed": false
   },
   "outputs": [
    {
     "data": {
      "text/html": [
       "<div>\n",
       "<style scoped>\n",
       "    .dataframe tbody tr th:only-of-type {\n",
       "        vertical-align: middle;\n",
       "    }\n",
       "\n",
       "    .dataframe tbody tr th {\n",
       "        vertical-align: top;\n",
       "    }\n",
       "\n",
       "    .dataframe thead th {\n",
       "        text-align: right;\n",
       "    }\n",
       "</style>\n",
       "<table border=\"1\" class=\"dataframe\">\n",
       "  <thead>\n",
       "    <tr style=\"text-align: right;\">\n",
       "      <th></th>\n",
       "      <th>Year</th>\n",
       "      <th>area</th>\n",
       "    </tr>\n",
       "  </thead>\n",
       "  <tbody>\n",
       "    <tr>\n",
       "      <th>0</th>\n",
       "      <td>1986</td>\n",
       "      <td>2</td>\n",
       "    </tr>\n",
       "    <tr>\n",
       "      <th>1</th>\n",
       "      <td>1993</td>\n",
       "      <td>2</td>\n",
       "    </tr>\n",
       "    <tr>\n",
       "      <th>2</th>\n",
       "      <td>2000</td>\n",
       "      <td>6</td>\n",
       "    </tr>\n",
       "    <tr>\n",
       "      <th>3</th>\n",
       "      <td>2007</td>\n",
       "      <td>5</td>\n",
       "    </tr>\n",
       "  </tbody>\n",
       "</table>\n",
       "</div>"
      ],
      "text/plain": [
       "   Year  area\n",
       "0  1986     2\n",
       "1  1993     2\n",
       "2  2000     6\n",
       "3  2007     5"
      ]
     },
     "execution_count": 12,
     "metadata": {},
     "output_type": "execute_result"
    }
   ],
   "source": [
    "extreme_droughts(5)"
   ]
  },
  {
   "cell_type": "markdown",
   "id": "74fd3bb1c45a12f7",
   "metadata": {
    "collapsed": false
   },
   "source": [
    "Аналогічно для помірних посух"
   ]
  },
  {
   "cell_type": "code",
   "execution_count": 13,
   "id": "f4ad8b2ed29bf275",
   "metadata": {
    "ExecuteTime": {
     "end_time": "2024-03-30T07:45:09.039147Z",
     "start_time": "2024-03-30T07:45:09.030011Z"
    },
    "collapsed": false
   },
   "outputs": [],
   "source": [
    "def moderate_droughts(procent, min=15, max=40):\n",
    "    df_drouhts = df_all[(df_all['VHI'] >= min) & (df_all['VHI'] <= max)]\n",
    "    grouped = df_drouhts.groupby('Year')['area'].nunique()\n",
    "    count_areas = df_all['area'].nunique()\n",
    "    result = grouped[grouped > (count_areas * procent / 100)].reset_index()\n",
    "    return result"
   ]
  },
  {
   "cell_type": "code",
   "execution_count": 14,
   "id": "13ae1a171ce9927b",
   "metadata": {
    "ExecuteTime": {
     "end_time": "2024-03-30T07:45:09.671329Z",
     "start_time": "2024-03-30T07:45:09.658365Z"
    },
    "collapsed": false
   },
   "outputs": [
    {
     "data": {
      "text/html": [
       "<div>\n",
       "<style scoped>\n",
       "    .dataframe tbody tr th:only-of-type {\n",
       "        vertical-align: middle;\n",
       "    }\n",
       "\n",
       "    .dataframe tbody tr th {\n",
       "        vertical-align: top;\n",
       "    }\n",
       "\n",
       "    .dataframe thead th {\n",
       "        text-align: right;\n",
       "    }\n",
       "</style>\n",
       "<table border=\"1\" class=\"dataframe\">\n",
       "  <thead>\n",
       "    <tr style=\"text-align: right;\">\n",
       "      <th></th>\n",
       "      <th>Year</th>\n",
       "      <th>area</th>\n",
       "    </tr>\n",
       "  </thead>\n",
       "  <tbody>\n",
       "    <tr>\n",
       "      <th>0</th>\n",
       "      <td>1982</td>\n",
       "      <td>25</td>\n",
       "    </tr>\n",
       "    <tr>\n",
       "      <th>1</th>\n",
       "      <td>1983</td>\n",
       "      <td>25</td>\n",
       "    </tr>\n",
       "    <tr>\n",
       "      <th>2</th>\n",
       "      <td>1984</td>\n",
       "      <td>25</td>\n",
       "    </tr>\n",
       "    <tr>\n",
       "      <th>3</th>\n",
       "      <td>1985</td>\n",
       "      <td>25</td>\n",
       "    </tr>\n",
       "    <tr>\n",
       "      <th>4</th>\n",
       "      <td>1986</td>\n",
       "      <td>25</td>\n",
       "    </tr>\n",
       "    <tr>\n",
       "      <th>5</th>\n",
       "      <td>1987</td>\n",
       "      <td>25</td>\n",
       "    </tr>\n",
       "    <tr>\n",
       "      <th>6</th>\n",
       "      <td>1988</td>\n",
       "      <td>25</td>\n",
       "    </tr>\n",
       "    <tr>\n",
       "      <th>7</th>\n",
       "      <td>1989</td>\n",
       "      <td>25</td>\n",
       "    </tr>\n",
       "    <tr>\n",
       "      <th>8</th>\n",
       "      <td>1990</td>\n",
       "      <td>25</td>\n",
       "    </tr>\n",
       "    <tr>\n",
       "      <th>9</th>\n",
       "      <td>1991</td>\n",
       "      <td>24</td>\n",
       "    </tr>\n",
       "    <tr>\n",
       "      <th>10</th>\n",
       "      <td>1992</td>\n",
       "      <td>25</td>\n",
       "    </tr>\n",
       "    <tr>\n",
       "      <th>11</th>\n",
       "      <td>1993</td>\n",
       "      <td>25</td>\n",
       "    </tr>\n",
       "    <tr>\n",
       "      <th>12</th>\n",
       "      <td>1994</td>\n",
       "      <td>25</td>\n",
       "    </tr>\n",
       "    <tr>\n",
       "      <th>13</th>\n",
       "      <td>1995</td>\n",
       "      <td>25</td>\n",
       "    </tr>\n",
       "    <tr>\n",
       "      <th>14</th>\n",
       "      <td>1996</td>\n",
       "      <td>25</td>\n",
       "    </tr>\n",
       "    <tr>\n",
       "      <th>15</th>\n",
       "      <td>1997</td>\n",
       "      <td>22</td>\n",
       "    </tr>\n",
       "    <tr>\n",
       "      <th>16</th>\n",
       "      <td>1998</td>\n",
       "      <td>18</td>\n",
       "    </tr>\n",
       "    <tr>\n",
       "      <th>17</th>\n",
       "      <td>1999</td>\n",
       "      <td>25</td>\n",
       "    </tr>\n",
       "    <tr>\n",
       "      <th>18</th>\n",
       "      <td>2000</td>\n",
       "      <td>25</td>\n",
       "    </tr>\n",
       "    <tr>\n",
       "      <th>19</th>\n",
       "      <td>2001</td>\n",
       "      <td>21</td>\n",
       "    </tr>\n",
       "    <tr>\n",
       "      <th>20</th>\n",
       "      <td>2002</td>\n",
       "      <td>21</td>\n",
       "    </tr>\n",
       "    <tr>\n",
       "      <th>21</th>\n",
       "      <td>2003</td>\n",
       "      <td>20</td>\n",
       "    </tr>\n",
       "    <tr>\n",
       "      <th>22</th>\n",
       "      <td>2004</td>\n",
       "      <td>6</td>\n",
       "    </tr>\n",
       "    <tr>\n",
       "      <th>23</th>\n",
       "      <td>2005</td>\n",
       "      <td>15</td>\n",
       "    </tr>\n",
       "    <tr>\n",
       "      <th>24</th>\n",
       "      <td>2006</td>\n",
       "      <td>21</td>\n",
       "    </tr>\n",
       "    <tr>\n",
       "      <th>25</th>\n",
       "      <td>2007</td>\n",
       "      <td>21</td>\n",
       "    </tr>\n",
       "    <tr>\n",
       "      <th>26</th>\n",
       "      <td>2008</td>\n",
       "      <td>22</td>\n",
       "    </tr>\n",
       "    <tr>\n",
       "      <th>27</th>\n",
       "      <td>2009</td>\n",
       "      <td>25</td>\n",
       "    </tr>\n",
       "    <tr>\n",
       "      <th>28</th>\n",
       "      <td>2010</td>\n",
       "      <td>22</td>\n",
       "    </tr>\n",
       "    <tr>\n",
       "      <th>29</th>\n",
       "      <td>2011</td>\n",
       "      <td>21</td>\n",
       "    </tr>\n",
       "    <tr>\n",
       "      <th>30</th>\n",
       "      <td>2012</td>\n",
       "      <td>19</td>\n",
       "    </tr>\n",
       "    <tr>\n",
       "      <th>31</th>\n",
       "      <td>2013</td>\n",
       "      <td>23</td>\n",
       "    </tr>\n",
       "    <tr>\n",
       "      <th>32</th>\n",
       "      <td>2014</td>\n",
       "      <td>21</td>\n",
       "    </tr>\n",
       "    <tr>\n",
       "      <th>33</th>\n",
       "      <td>2015</td>\n",
       "      <td>25</td>\n",
       "    </tr>\n",
       "    <tr>\n",
       "      <th>34</th>\n",
       "      <td>2016</td>\n",
       "      <td>23</td>\n",
       "    </tr>\n",
       "    <tr>\n",
       "      <th>35</th>\n",
       "      <td>2017</td>\n",
       "      <td>22</td>\n",
       "    </tr>\n",
       "    <tr>\n",
       "      <th>36</th>\n",
       "      <td>2018</td>\n",
       "      <td>24</td>\n",
       "    </tr>\n",
       "    <tr>\n",
       "      <th>37</th>\n",
       "      <td>2019</td>\n",
       "      <td>25</td>\n",
       "    </tr>\n",
       "    <tr>\n",
       "      <th>38</th>\n",
       "      <td>2020</td>\n",
       "      <td>23</td>\n",
       "    </tr>\n",
       "    <tr>\n",
       "      <th>39</th>\n",
       "      <td>2021</td>\n",
       "      <td>23</td>\n",
       "    </tr>\n",
       "    <tr>\n",
       "      <th>40</th>\n",
       "      <td>2022</td>\n",
       "      <td>23</td>\n",
       "    </tr>\n",
       "    <tr>\n",
       "      <th>41</th>\n",
       "      <td>2023</td>\n",
       "      <td>23</td>\n",
       "    </tr>\n",
       "    <tr>\n",
       "      <th>42</th>\n",
       "      <td>2024</td>\n",
       "      <td>23</td>\n",
       "    </tr>\n",
       "  </tbody>\n",
       "</table>\n",
       "</div>"
      ],
      "text/plain": [
       "    Year  area\n",
       "0   1982    25\n",
       "1   1983    25\n",
       "2   1984    25\n",
       "3   1985    25\n",
       "4   1986    25\n",
       "5   1987    25\n",
       "6   1988    25\n",
       "7   1989    25\n",
       "8   1990    25\n",
       "9   1991    24\n",
       "10  1992    25\n",
       "11  1993    25\n",
       "12  1994    25\n",
       "13  1995    25\n",
       "14  1996    25\n",
       "15  1997    22\n",
       "16  1998    18\n",
       "17  1999    25\n",
       "18  2000    25\n",
       "19  2001    21\n",
       "20  2002    21\n",
       "21  2003    20\n",
       "22  2004     6\n",
       "23  2005    15\n",
       "24  2006    21\n",
       "25  2007    21\n",
       "26  2008    22\n",
       "27  2009    25\n",
       "28  2010    22\n",
       "29  2011    21\n",
       "30  2012    19\n",
       "31  2013    23\n",
       "32  2014    21\n",
       "33  2015    25\n",
       "34  2016    23\n",
       "35  2017    22\n",
       "36  2018    24\n",
       "37  2019    25\n",
       "38  2020    23\n",
       "39  2021    23\n",
       "40  2022    23\n",
       "41  2023    23\n",
       "42  2024    23"
      ]
     },
     "execution_count": 14,
     "metadata": {},
     "output_type": "execute_result"
    }
   ],
   "source": [
    "moderate_droughts(20)"
   ]
  }
 ],
 "metadata": {
  "kernelspec": {
   "display_name": "Python 3",
   "language": "python",
   "name": "python3"
  },
  "language_info": {
   "codemirror_mode": {
    "name": "ipython",
    "version": 3
   },
   "file_extension": ".py",
   "mimetype": "text/x-python",
   "name": "python",
   "nbconvert_exporter": "python",
   "pygments_lexer": "ipython3",
   "version": "3.8.2"
  }
 },
 "nbformat": 4,
 "nbformat_minor": 5
}
